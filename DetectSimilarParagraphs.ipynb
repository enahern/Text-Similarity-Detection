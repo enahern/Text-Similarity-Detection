{
  "metadata": {
    "kernelspec": {
      "name": "python",
      "display_name": "Python (Pyodide)",
      "language": "python"
    },
    "language_info": {
      "codemirror_mode": {
        "name": "python",
        "version": 3
      },
      "file_extension": ".py",
      "mimetype": "text/x-python",
      "name": "python",
      "nbconvert_exporter": "python",
      "pygments_lexer": "ipython3",
      "version": "3.8"
    }
  },
  "nbformat_minor": 5,
  "nbformat": 4,
  "cells": [
    {
      "id": "968e1029-0545-4c0f-af45-fabb4853426a",
      "cell_type": "code",
      "source": "import os\n\ndef find_paragraphs(file_path):\n    with open(file_path, 'r', encoding='utf-8') as file:\n        text = file.read()\n        \n    paragraphs = text.split('\\n\\n')  \n    p_list = []\n    for p in paragraphs:\n        if p.strip():\n            p_list.append(p.strip())\n    \n    return p_list\nos.chdir('/drive/data/')\n# print(os.getcwd()) \nfile_path = 'similarity.txt'  \n\nparag = find_paragraphs(file_path)\n# print(len(parag))\n",
      "metadata": {
        "trusted": true,
        "scrolled": true
      },
      "outputs": [],
      "execution_count": 2
    },
    {
      "id": "0123ea69-5fdf-484d-8e74-4ad79465830d",
      "cell_type": "code",
      "source": "import re\n\ndef create_shingles(paragraphs, k):\n    shingle_sets = []\n\n    #splitting the paragraphs into a set of words\n    for para in paragraphs:\n        just_words = re.sub(r'[^\\w\\s]', '', para.lower())\n        words = just_words.split() \n        shingles = set()\n\n        # creating the shingles\n        for i in range(len(words) - k + 1):\n            shingle = tuple(words[i:i + k])  \n            shingles.add(shingle)\n\n        shingle_sets.append(shingles)\n\n    return shingle_sets\nshin = create_shingles(parag,5)\n# print(shin)\n# print(len(shin))",
      "metadata": {
        "trusted": true,
        "scrolled": true
      },
      "outputs": [],
      "execution_count": 3
    },
    {
      "id": "a58f2061-1fd3-408f-a6d9-ad6cfd741286",
      "cell_type": "code",
      "source": "def assign_num(set_name):\n    dword = {}\n    numlst = []\n    for para in set_name:\n        tmplst = []\n        for words in para:\n            if words in dword:\n                tmplst += [dword[words]]\n            else:\n                dword[words] = len(dword) + 1\n                tmplst += [dword[words]]\n        numlst += [tmplst]\n    return numlst\n\nanum = assign_num(shin)\n# print(anum)",
      "metadata": {
        "trusted": true,
        "scrolled": true
      },
      "outputs": [],
      "execution_count": 4
    },
    {
      "id": "3f8e2e75-badf-4b2a-ac8e-d5f19dd0e00d",
      "cell_type": "code",
      "source": "def find_max(lst):\n    maxlst = []\n    for i in lst:\n        maxlst += [max(i)]\n    return max(maxlst)\nmax_l = find_max(anum)\n# print(max_l)\ndef bit_vector(num_lst):\n    vec = []\n    for para in num_lst:\n        v1 = []\n        for i in range(1, find_max(num_lst)+1):\n            if i in para:\n                v1.append(1)\n            else:\n                v1.append(0)\n        vec.append(v1)\n    return vec\nbvec = bit_vector(assign_num(create_shingles(find_paragraphs(file_path),5)))\n# print(len(bvec))\n# print(bvec)\n                \n            ",
      "metadata": {
        "trusted": true,
        "scrolled": true
      },
      "outputs": [],
      "execution_count": 5
    },
    {
      "id": "fb27dfd0-e528-4af9-a63f-36aee78a6c07",
      "cell_type": "code",
      "source": "import random as rn\n\ndef rand_perm(max_num):\n    lstofperm = []\n    i = 0\n    while i < 100:\n        perm1 = list(range(1,max_num+1))\n        rn.shuffle(perm1)\n        if perm1 not in lstofperm:\n            lstofperm +=[perm1.copy()]\n            i +=1\n        \n    return lstofperm\nranper = rand_perm(find_max(assign_num(create_shingles(find_paragraphs(file_path),5))))\n# print(len(ranper))\n# print(ranper)\n",
      "metadata": {
        "trusted": true,
        "scrolled": true
      },
      "outputs": [],
      "execution_count": 6
    },
    {
      "id": "a0d6f4be-eadb-41a2-9af8-90b63ed3f413",
      "cell_type": "code",
      "source": "def signature(rand_perm, bit_v):\n    sig = []\n    for bit in bit_v:\n        lst = []\n        for perm in rand_perm:\n            for num in perm:\n                if bit[num-1] == 1:\n                    lst += [num]\n                    break\n        sig += [lst]\n    return sig\ns =  signature(ranper,bvec) ",
      "metadata": {
        "trusted": true,
        "scrolled": true
      },
      "outputs": [],
      "execution_count": 7
    },
    {
      "id": "cce67d69-594e-433f-adb8-cbccd06b22de",
      "cell_type": "code",
      "source": "def jaccard(x,y):\n    return len(x.intersection(y))/ len(x.union(y))",
      "metadata": {
        "trusted": true
      },
      "outputs": [],
      "execution_count": 8
    },
    {
      "id": "fd42ee1e-23c4-456e-974e-dbb80a22e19c",
      "cell_type": "code",
      "source": "def splitv(sig, b):\n    row = int(len(sig)/b)\n    spv = []\n    for i in range(0,len(sig), row):\n        spv += [sig[i:i+ row]]\n    return spv\n\nspl_v_fin = []\nfor i in s:\n    spl_v_fin += [splitv(i, 20)]\n        ",
      "metadata": {
        "trusted": true
      },
      "outputs": [],
      "execution_count": 9
    },
    {
      "id": "1715866f-e27c-4f24-b4c5-a564a348d8d1",
      "cell_type": "code",
      "source": "import hashlib\ndef hashband(band):\n    return hashlib.md5(str(band).encode('utf-8')).hexdigest()\nbuckets = {}\nfor i, para in enumerate(spl_v_fin):\n    for j, bin in enumerate(para):\n        hb = hashband(bin)\n        spl_v_fin[i][j] = hb\n        if hb not in buckets:\n            buckets[hb] = []\n        buckets[hb].append(i)\n\n    ",
      "metadata": {
        "trusted": true
      },
      "outputs": [],
      "execution_count": 10
    },
    {
      "id": "1a263da2-c45f-4f56-a07b-f8bab83d303b",
      "cell_type": "code",
      "source": "from itertools import combinations\nc = set()\nfor b in buckets.values():\n    if len(b) > 1:\n        for pair in combinations(b,2):\n            c.add(pair)\n",
      "metadata": {
        "trusted": true
      },
      "outputs": [],
      "execution_count": 11
    },
    {
      "id": "7562f3be-0168-4836-b3d8-6d88808b3ee4",
      "cell_type": "code",
      "source": "sim = []\nfor p1,p2 in c:\n    sim.append([(p1,p2),jaccard(set(shin[p1]),set(shin[p2]))])\nhigh2low = sorted(sim, key=lambda x: x[1], reverse=True)\nprint(high2low[0:5])\n\n\n\n    ",
      "metadata": {
        "trusted": true
      },
      "outputs": [
        {
          "name": "stdout",
          "text": "[[(239, 272), 1.0], [(259, 300), 1.0], [(509, 519), 1.0], [(132, 312), 1.0], [(177, 291), 1.0]]\n",
          "output_type": "stream"
        }
      ],
      "execution_count": 12
    },
    {
      "id": "2a95169e-b4b9-44b5-9d1a-89f76d8c0e53",
      "cell_type": "code",
      "source": "'''\nI represented my textual data in a list of each paragraph within the text file given. Within each list of paragraphs, I separated each\nword of the paragraph and excluded any space and punctuation. My final textual representation of the file was a list of lists that contained \neach word for each paragraph. I chose a shingle size of 5 because less than five is typically too small to give a confident similarity result,\nand a shingle size of 10 is meant for bigger data.\n\nDue to the large size of data, and the small computing power on my computer, naively try to compare the signature matrices to determine\nthe similar documents would result in taking up too much time or crashing my computer. Already, my computer takes almost 5 minutes\nto execute the code. Banding reduces this issue by putting similar values in the same buckets to reduce the number of comparisons and time\nthat it takes to run. LSH continues to reduce this by only comparing the documents that are considered likely to be similar. \n\n\n\n'''",
      "metadata": {
        "trusted": true
      },
      "outputs": [
        {
          "execution_count": 13,
          "output_type": "execute_result",
          "data": {
            "text/plain": "'\\nI represented my textual data in a list of each paragraph within the text file given. Within each list of paragraphs, I separated each\\nword of the paragraph and excluded any space and punctuation. My final textual representation of the file was a list of lists that contained \\neach word for each paragraph. I chose a shingle size of 5 because less than five is typically too small to give a confident similarity result,\\nand a shingle size of 10 is meant for bigger data.\\n\\nDue to the large size of data, and the small computing power on my computer, naively try to compare the signature matrices to determine\\nthe similar documents would result in taking up too much time or crashing my computer. Already, my computer takes almost 5 minutes\\nto execute the code. Banding reduces this issue by putting similar values in the same buckets to reduce the number of comparisons and time\\nthat it takes to run. LSH continues to reduce this by only comparing the documents that are considered likely to be similar. \\n\\n\\n\\n'"
          },
          "metadata": {}
        }
      ],
      "execution_count": 13
    },
    {
      "id": "c6b08827-cb7b-4ca9-a12d-93be640b35ec",
      "cell_type": "code",
      "source": "for i in high2low[0:5]:\n    print()\n    print(\"Similar Pair 1\")\n    print((parag[i[0][0]]))\n    print()\n    print(\"Similar Pair 2\")\n    print((parag[i[0][1]]))",
      "metadata": {
        "trusted": true
      },
      "outputs": [
        {
          "name": "stdout",
          "text": "\nSimilar Pair 1\nIn the heart of a bustling metropolis, a hidden rooftop garden offered a respite from the concrete jungle below. Towering skyscrapers provided a backdrop to lush greenery, where vines cascaded from trellises and exotic flowers thrived in their urban oasis. Stone pathways wound through the garden, leading to secluded alcoves where visitors could find solitude and reflection. It was a place where the relentless pace of the city gave way to the serenity of nature, and where the rooftop garden whispered secrets of balance and beauty.\n\nSimilar Pair 2\nIn the heart of a bustling metropolis, a hidden rooftop garden offered a respite from the concrete jungle below. Towering skyscrapers provided a backdrop to lush greenery, where vines cascaded from trellises and exotic flowers thrived in their urban oasis. Stone pathways wound through the garden, leading to secluded alcoves where visitors could find solitude and reflection. It was a place where the relentless pace of the city gave way to the serenity of nature, and where the rooftop garden whispered secrets of balance and beauty.\n\nSimilar Pair 1\nIn the heart of a bustling city, a master chef toiled in a renowned restaurant's kitchen, orchestrating a culinary symphony that delighted the senses. Ingredients from the world over danced on the stove, and the clatter of pots and pans merged with the aroma of spices and herbs. Each dish was a canvas, a masterpiece of flavor and presentation that would leave diners with unforgettable memories of a gastronomic journey. The restaurant's dining room buzzed with anticipation, a place where food transcended sustenance and became a work of art.\n\nSimilar Pair 2\nIn the heart of a bustling city, a master chef toiled in a renowned restaurant's kitchen, orchestrating a culinary symphony that delighted the senses. Ingredients from the world over danced on the stove, and the clatter of pots and pans merged with the aroma of spices and herbs. Each dish was a canvas, a masterpiece of flavor and presentation that would leave diners with unforgettable memories of a gastronomic journey. The restaurant's dining room buzzed with anticipation, a place where food transcended sustenance and became a work of art.\n\nSimilar Pair 1\nIn the heart of the city, Emily and Daniel's love story unfolded on the dance floor. They met at a salsa club, where their chemistry was undeniable. They moved in perfect harmony, their bodies swaying to the rhythm of the music. With each passionate dance, their love grew stronger, and they became partners in life and on the dance floor.\n\nSimilar Pair 2\nIn the heart of the city, Emily and Daniel's love story unfolded on the dance floor. They met at a salsa club, where their chemistry was undeniable. They moved in perfect harmony, their bodies swaying to the rhythm of the music. With each passionate dance, their love grew stronger, and they became partners in life and on the dance floor.\n\nSimilar Pair 1\nAmidst the tranquility of a sun-dappled meadow, a group of friends gathered for a picnic, their laughter mingling with the sounds of nature. The meadow stretched as far as the eye could see, its wildflowers a mosaic of color beneath the azure sky. As they shared food and stories, the meadow became a canvas of friendship and joy, where time seemed to stretch infinitely, and the simplicity of nature brought a sense of peace and connection.\n\nSimilar Pair 2\nAmidst the tranquility of a sun-dappled meadow, a group of friends gathered for a picnic, their laughter mingling with the sounds of nature. The meadow stretched as far as the eye could see, its wildflowers a mosaic of color beneath the azure sky. As they shared food and stories, the meadow became a canvas of friendship and joy, where time seemed to stretch infinitely, and the simplicity of nature brought a sense of peace and connection.\n\nSimilar Pair 1\nAmidst the tranquility of a sun-dappled meadow, a group of friends gathered for a picnic, their laughter mingling with the sounds of nature. The meadow stretched as far as the eye could see, its wildflowers a mosaic of color beneath the azure sky. As they shared food and stories, the meadow became a canvas of friendship and joy, where time seemed to stretch infinitely, and the simplicity of nature brought a sense of peace and connection.\n\nSimilar Pair 2\nAmidst the tranquility of a sun-dappled meadow, a group of friends gathered for a picnic, their laughter mingling with the sounds of nature. The meadow stretched as far as the eye could see, its wildflowers a mosaic of color beneath the azure sky. As they shared food and stories, the meadow became a canvas of friendship and joy, where time seemed to stretch infinitely, and the simplicity of nature brought a sense of peace and connection.\n",
          "output_type": "stream"
        }
      ],
      "execution_count": 14
    },
    {
      "id": "7c6d857b-78ed-4186-b057-de752bf2e731",
      "cell_type": "markdown",
      "source": "'''These paragraphs are identical! All had a jarrard similarity of 1 and are identical paragraphs. '''",
      "metadata": {}
    },
    {
      "id": "6c582383-4153-4e85-9a1e-0bf2f0b50d4f",
      "cell_type": "code",
      "source": "",
      "metadata": {
        "trusted": true
      },
      "outputs": [],
      "execution_count": null
    },
    {
      "id": "3d8d6cf0-bb6e-4fb3-b3d8-b5092670d8d2",
      "cell_type": "code",
      "source": "",
      "metadata": {
        "trusted": true
      },
      "outputs": [],
      "execution_count": null
    },
    {
      "id": "230e0a00-4f55-4602-b15f-9eb1324a4137",
      "cell_type": "code",
      "source": "",
      "metadata": {
        "trusted": true
      },
      "outputs": [],
      "execution_count": null
    },
    {
      "id": "bbe0085f-5d26-4539-bea7-c685d578b70a",
      "cell_type": "code",
      "source": "",
      "metadata": {
        "trusted": true
      },
      "outputs": [],
      "execution_count": null
    },
    {
      "id": "6af96469-cb86-4ca0-b59f-4bbcc65c66b9",
      "cell_type": "code",
      "source": "",
      "metadata": {
        "trusted": true
      },
      "outputs": [],
      "execution_count": null
    },
    {
      "id": "0c3d420a-6a3e-4046-a222-2f0b80cb6c08",
      "cell_type": "code",
      "source": "",
      "metadata": {
        "trusted": true
      },
      "outputs": [],
      "execution_count": null
    },
    {
      "id": "fb3ad380-522e-409e-96c4-457cb9b634ac",
      "cell_type": "code",
      "source": "",
      "metadata": {
        "trusted": true
      },
      "outputs": [],
      "execution_count": null
    },
    {
      "id": "0fa78c3a-54c3-4663-87f4-0ee5d3a4cef4",
      "cell_type": "code",
      "source": "",
      "metadata": {
        "trusted": true
      },
      "outputs": [],
      "execution_count": null
    },
    {
      "id": "30097176-a102-444e-bb00-4e3cc7ad1b08",
      "cell_type": "code",
      "source": "",
      "metadata": {
        "trusted": true
      },
      "outputs": [],
      "execution_count": null
    },
    {
      "id": "e8921406-f3c3-4268-b552-8d82e791d69c",
      "cell_type": "code",
      "source": "",
      "metadata": {
        "trusted": true
      },
      "outputs": [],
      "execution_count": null
    },
    {
      "id": "75aa0b56-e51b-4d01-8ea6-d14ff6260338",
      "cell_type": "code",
      "source": "",
      "metadata": {
        "trusted": true
      },
      "outputs": [],
      "execution_count": null
    },
    {
      "id": "a5c5a9e4-96b8-4dcb-aa7e-1d700dbe256d",
      "cell_type": "code",
      "source": "",
      "metadata": {
        "trusted": true
      },
      "outputs": [],
      "execution_count": null
    },
    {
      "id": "257af332-09b1-45f4-a7e4-aa0e5fceeafa",
      "cell_type": "code",
      "source": "",
      "metadata": {
        "trusted": true
      },
      "outputs": [],
      "execution_count": null
    },
    {
      "id": "4e9dd407-0a8b-4f01-9b76-c6e57f0f687a",
      "cell_type": "code",
      "source": "",
      "metadata": {
        "trusted": true
      },
      "outputs": [],
      "execution_count": null
    },
    {
      "id": "42a01f55-8e27-4364-a781-f37712c6a27c",
      "cell_type": "code",
      "source": "",
      "metadata": {
        "trusted": true
      },
      "outputs": [],
      "execution_count": null
    },
    {
      "id": "44df6c50-76b7-4284-86b7-f95480f3758c",
      "cell_type": "code",
      "source": "",
      "metadata": {
        "trusted": true
      },
      "outputs": [],
      "execution_count": null
    }
  ]
}
